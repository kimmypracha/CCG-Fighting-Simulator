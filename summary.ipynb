{
 "nbformat": 4,
 "nbformat_minor": 2,
 "metadata": {
  "language_info": {
   "name": "python",
   "codemirror_mode": {
    "name": "ipython",
    "version": 3
   },
   "version": "3.8.5-final"
  },
  "orig_nbformat": 2,
  "file_extension": ".py",
  "mimetype": "text/x-python",
  "name": "python",
  "npconvert_exporter": "python",
  "pygments_lexer": "ipython3",
  "version": 3,
  "kernelspec": {
   "name": "python38564bit9cc922a0cab94d29981091902f2a8012",
   "display_name": "Python 3.8.5 64-bit"
  }
 },
 "cells": [
  {
   "cell_type": "code",
   "execution_count": null,
   "metadata": {},
   "outputs": [],
   "source": [
    "from Player import Player\n",
    "from Game import CodeConquerorGame as ccg\n",
    "from config import game_conf\n",
    "userList = [Player(name = \"A\" + str(i), \n",
    "                   display_mode = game_conf.display_mode)\n",
    "                  for i in range(10)]\n",
    "game = ccg(userList)\n",
    "silent_table = []"
   ]
  },
  {
   "cell_type": "code",
   "execution_count": null,
   "metadata": {},
   "outputs": [],
   "source": [
    "# simulation \n",
    "for i in range(10000):\n",
    "    game.play()\n",
    "    silent_table += game.compute_silent()"
   ]
  },
  {
   "cell_type": "code",
   "execution_count": null,
   "metadata": {},
   "outputs": [],
   "source": [
    "mn_silent = min(silent_table)\n",
    "mx_silent = max(silent_table)\n",
    "avg_silent = sum(silent_table)//len(silent_table)\n",
    "print(f\"Minimum Silent Time : {mn_silent//60}m {mn_silent%60}s\")\n",
    "print(f\"Maximum Silent Time : {mx_silent//60}m {mx_silent%60}s\")\n",
    "print(f\"Average Silent Time : {avg_silent//60}m {avg_silent%60}s\")"
   ]
  },
  {
   "cell_type": "code",
   "execution_count": null,
   "metadata": {},
   "outputs": [],
   "source": [
    "import matplotlib.pyplot as plt\n",
    "silent_min = [x//60 for x in silent_table] # silent minute\n",
    "plt.hist(silent_min , color=\"blue\", edgecolor=\"black\",bins=30)\n",
    "plt.title('Histogram of Silent Duration')\n",
    "plt.xlabel('Duration (min)')\n",
    "plt.ylabel('Frequency')"
   ]
  },
  {
   "cell_type": "code",
   "execution_count": null,
   "metadata": {},
   "outputs": [],
   "source": [
    "mn_end = min(game.end_time)\n",
    "mx_end = max(game.end_time)\n",
    "avg_end = sum(game.end_time)//len(game.end_time)\n",
    "print(f\"Minimum End Time : {mn_end//60}m {mn_end%60}s\")\n",
    "print(f\"Maximum End Time : {mx_end//60}m {mx_end%60}s\")\n",
    "print(f\"Average End Time : {avg_end//60}m {avg_end%60}s\")"
   ]
  },
  {
   "cell_type": "code",
   "execution_count": null,
   "metadata": {},
   "outputs": [],
   "source": [
    "end_min = [x//60 for x in game.end_time]\n",
    "plt.hist(end_min , color=\"blue\", edgecolor=\"black\",bins=30)\n",
    "plt.title('Histogram of Game Duration')\n",
    "plt.xlabel('Duration (min)')\n",
    "plt.ylabel('Frequency')"
   ]
  },
  {
   "cell_type": "code",
   "execution_count": null,
   "metadata": {},
   "outputs": [],
   "source": [
    "print(f\"Give up Match (No move left) : {game.nomove_cnt}\")\n",
    "print(f\"Time up Match : {game.timeup_cnt}\")"
   ]
  }
 ]
}